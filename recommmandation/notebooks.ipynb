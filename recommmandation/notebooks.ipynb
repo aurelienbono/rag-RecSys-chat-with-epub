{
 "cells": [
  {
   "cell_type": "code",
   "execution_count": 1,
   "metadata": {},
   "outputs": [],
   "source": [
    "import os\n",
    "import pandas as pd\n",
    "import requests\n",
    "from dotenv import load_dotenv\n",
    "import chromadb\n",
    "from openai import OpenAI\n",
    "from chromadb.utils import embedding_functions\n",
    "from tqdm import tqdm\n",
    "\n"
   ]
  },
  {
   "cell_type": "code",
   "execution_count": 2,
   "metadata": {},
   "outputs": [],
   "source": [
    "load_dotenv()\n",
    "openai_key = os.getenv(\"OPENAI_API_KEY\")\n",
    "\n",
    "openai_ef = embedding_functions.OpenAIEmbeddingFunction(\n",
    "    api_key=openai_key, model_name=\"text-embedding-3-small\"\n",
    ")\n",
    "chroma_client = chromadb.PersistentClient(path=\"chroma_persistent_storage_for_recommandation\")\n",
    "collection = chroma_client.get_or_create_collection(\n",
    "    name=\"book_recommendation_collection\", embedding_function=openai_ef\n",
    ")\n",
    "client = OpenAI(api_key=openai_key)\n",
    "\n"
   ]
  },
  {
   "cell_type": "code",
   "execution_count": 3,
   "metadata": {},
   "outputs": [],
   "source": [
    "# 📌 Fonction pour extraire les livres depuis un CSV\n",
    "def extract_books_from_csv(csv_path):\n",
    "    books = []\n",
    "    df = pd.read_csv(csv_path)  # Charger le CSV en DataFrame\n",
    "\n",
    "    for _, row in df.iterrows():\n",
    "        books.append({\n",
    "            \"id\": row[\"id\"],\n",
    "            \"isbn13\": row[\"isbn13\"],\n",
    "            \"title\": row[\"title\"].strip(),\n",
    "            \"authors\": row[\"authors\"].strip(),\n",
    "            \"published_date\": row[\"published_date\"],\n",
    "            \"page_count\": row[\"page_count\"],\n",
    "            \"category\": row[\"category\"].strip(),\n",
    "            \"language\": row[\"language\"].strip(),\n",
    "            \"avg_rating\": row[\"avg_rating\"],\n",
    "            \"rating_count\": row[\"rating_count\"],\n",
    "            \"img_url\": row[\"img_url\"].strip(),\n",
    "            \"preview_url\": row[\"preview_url\"].strip(),\n",
    "            \"description\": row[\"description\"].strip(),\n",
    "        })\n",
    "\n",
    "    return books\n"
   ]
  },
  {
   "cell_type": "code",
   "execution_count": 4,
   "metadata": {},
   "outputs": [
    {
     "name": "stdout",
     "output_type": "stream",
     "text": [
      "📚 604 books extracted from the CSV.\n"
     ]
    }
   ],
   "source": [
    "# Load books from CSV\n",
    "csv_path = \"books/books.csv\" \n",
    "books = extract_books_from_csv(csv_path)\n",
    "print(f\"📚 {len(books)} books extracted from the CSV.\")\n",
    "\n"
   ]
  },
  {
   "cell_type": "code",
   "execution_count": 5,
   "metadata": {},
   "outputs": [
    {
     "name": "stderr",
     "output_type": "stream",
     "text": [
      "🔄 Génération des embeddings: 100%|██████████| 604/604 [04:18<00:00,  2.34it/s]\n"
     ]
    },
    {
     "ename": "",
     "evalue": "",
     "output_type": "error",
     "traceback": [
      "\u001b[1;31mThe Kernel crashed while executing code in the current cell or a previous cell. \n",
      "\u001b[1;31mPlease review the code in the cell(s) to identify a possible cause of the failure. \n",
      "\u001b[1;31mClick <a href='https://aka.ms/vscodeJupyterKernelCrash'>here</a> for more info. \n",
      "\u001b[1;31mView Jupyter <a href='command:jupyter.viewOutput'>log</a> for further details."
     ]
    }
   ],
   "source": [
    "# Function to generate embeddings\n",
    "def get_openai_embedding(text):\n",
    "    response = client.embeddings.create(input=text, model=\"text-embedding-3-small\")\n",
    "    return response.data[0].embedding\n",
    "\n",
    "# 📌 Generate and store embeddings\n",
    "for book in tqdm(books, desc=\"🔄 Génération des embeddings\"):\n",
    "    book[\"embedding\"] = get_openai_embedding(book[\"description\"])\n"
   ]
  },
  {
   "cell_type": "code",
   "execution_count": 6,
   "metadata": {},
   "outputs": [
    {
     "name": "stderr",
     "output_type": "stream",
     "text": [
      "💾 Insertion dans ChromaDB:   0%|          | 0/604 [00:00<?, ?it/s]"
     ]
    }
   ],
   "source": [
    "\n",
    "for book in tqdm(books, desc=\"💾 Insertion dans ChromaDB\"):\n",
    "    collection.upsert(\n",
    "        ids=[str(book[\"id\"])], \n",
    "        documents=[book[\"description\"]], \n",
    "        embeddings=[book[\"embedding\"]],\n",
    "        metadatas=[{\n",
    "            \"title\": book[\"title\"],\n",
    "            \"authors\": book[\"authors\"],\n",
    "            \"category\": book[\"category\"],\n",
    "            \"published_date\": book[\"published_date\"],\n",
    "            \"language\": book[\"language\"],\n",
    "            \"isbn13\": book[\"isbn13\"],\n",
    "            \"page_count\": book[\"page_count\"],\n",
    "            \"avg_rating\": book[\"avg_rating\"],\n",
    "            \"rating_count\": book[\"rating_count\"],\n",
    "            \"img_url\": book[\"img_url\"],\n",
    "            \"preview_url\": book[\"preview_url\"],\n",
    "        }]\n",
    "    )\n",
    "\n"
   ]
  },
  {
   "cell_type": "code",
   "execution_count": null,
   "metadata": {},
   "outputs": [],
   "source": [
    "#  Description-based recommendation function\n",
    "def recommend_books(query, n_results=3):\n",
    "    results = collection.query(query_texts=[query], n_results=n_results)\n",
    "    recommended_books = []\n",
    "    \n",
    "    for i in range(len(results[\"ids\"][0])):\n",
    "        recommended_books.append({\n",
    "            \"title\": results[\"metadatas\"][0][i][\"title\"],\n",
    "            \"authors\": results[\"metadatas\"][0][i][\"authors\"],\n",
    "            \"category\": results[\"metadatas\"][0][i][\"category\"],\n",
    "            \"published_date\": results[\"metadatas\"][0][i][\"published_date\"],\n",
    "            \"language\": results[\"metadatas\"][0][i][\"language\"],\n",
    "            \"isbn13\": results[\"metadatas\"][0][i][\"isbn13\"],\n",
    "            \"page_count\": results[\"metadatas\"][0][i][\"page_count\"],\n",
    "            \"avg_rating\": results[\"metadatas\"][0][i][\"avg_rating\"],\n",
    "            \"rating_count\": results[\"metadatas\"][0][i][\"rating_count\"],\n",
    "            \"img_url\": results[\"metadatas\"][0][i][\"img_url\"],\n",
    "            \"preview_url\": results[\"metadatas\"][0][i][\"preview_url\"],\n",
    "        })\n",
    "    \n",
    "    return recommended_books\n",
    "\n",
    "\n"
   ]
  },
  {
   "cell_type": "code",
   "execution_count": null,
   "metadata": {},
   "outputs": [],
   "source": [
    "\n",
    "# \n",
    "def generate_recommendation(query):\n",
    "    relevant_books = recommend_books(query)\n",
    "\n",
    "    if not relevant_books:\n",
    "        return \"❌ No books found for this query.\"\n",
    "\n",
    "    context = \"\\n\\n\".join([\n",
    "        f\"📖 **{book['title']}**\\n👨‍🏫 **Author(s):** {book['authors']}\\n📚 **Category:** {book['category']}\\n📅 **Publication Date:** {book['published_date']}\\n🌍 **Language:** {book['language']}\\n🔢 **ISBN13:** {book['isbn13']}\\n📄 **Page Count:** {book['page_count']}\\n⭐ **Average Rating:** {book['avg_rating']} ({book['rating_count']} reviews)\\n🖼️ **Image:** {book['img_url']}\\n🔗 [Preview]({book['preview_url']})\"\n",
    "        for book in relevant_books\n",
    "    ])\n",
    "\n",
    "    prompt = f\"\"\"\n",
    "    You are an expert in book recommendations. A user is searching for books similar to their query.\n",
    "    Here are some relevant books retrieved from the database:\n",
    "    \n",
    "    {context}\n",
    "    \n",
    "    Based on these results and your knowledge, suggest three other relevant books.\n",
    "    \n",
    "    User query: \"{query}\"\n",
    "    \"\"\"\n",
    "\n",
    "    response = client.chat.completions.create(\n",
    "        model=\"gpt-3.5-turbo\",\n",
    "        messages=[{\"role\": \"system\", \"content\": prompt}]\n",
    "    )\n",
    "\n",
    "    return response.choices[0].message.content\n",
    "\n",
    "\n",
    "#  Run a recommendation query\n",
    "user_query = \"Je veux un livre sur l'intelligence artificielle\"\n",
    "recommended_books = generate_recommendation(user_query)\n",
    "\n",
    "print(recommended_books)\n"
   ]
  }
 ],
 "metadata": {
  "kernelspec": {
   "display_name": "Python 3",
   "language": "python",
   "name": "python3"
  },
  "language_info": {
   "codemirror_mode": {
    "name": "ipython",
    "version": 3
   },
   "file_extension": ".py",
   "mimetype": "text/x-python",
   "name": "python",
   "nbconvert_exporter": "python",
   "pygments_lexer": "ipython3",
   "version": "3.10.7"
  }
 },
 "nbformat": 4,
 "nbformat_minor": 2
}
